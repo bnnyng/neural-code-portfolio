{
 "cells": [
  {
   "cell_type": "markdown",
   "metadata": {},
   "source": [
    "# Neural Code Final Portfolio: Analysis of Neural Population Geometries\n",
    "\n",
    "**Key terms:**\n",
    "* **Context:** One of two distinct task structures. The correct stimulus-response pair is *inverted* between contexts.\n",
    "* **Block:** Groups of sequential trials within a session. Each block corresponds to a switch in latent context, and each session has 10-16 trial blocks of 15-32 trials each.\n",
    "* **Inference trials:** trials where a given stimulus is encountered for the first time after a context switch.\n",
    "\n",
    "🔺 **Indicates unanswered gap between reimplementation and original paper.**"
   ]
  },
  {
   "cell_type": "markdown",
   "metadata": {},
   "source": [
    "## Preliminaries"
   ]
  },
  {
   "cell_type": "code",
   "execution_count": 22,
   "metadata": {},
   "outputs": [],
   "source": [
    "import re\n",
    "import json\n",
    "from joblib import Parallel, delayed\n",
    "import time\n",
    "import numpy as np\n",
    "import pandas as pd\n",
    "import itertools\n",
    "import concurrent.futures\n",
    "\n",
    "import matplotlib.pyplot as plt\n",
    "import seaborn as sns\n",
    "from mpl_toolkits.mplot3d import Axes3D\n",
    "\n",
    "from scipy.stats import binom\n",
    "\n",
    "from sklearn.linear_model import LogisticRegression\n",
    "from sklearn.utils import shuffle\n",
    "from sklearn.model_selection import cross_val_predict\n",
    "from sklearn.metrics import accuracy_score\n",
    "from sklearn.metrics.pairwise import cosine_similarity\n",
    "from sklearn.preprocessing import StandardScaler\n",
    "from sklearn.manifold import MDS\n",
    "from sklearn.metrics import pairwise_distances\n",
    "\n",
    "import helper_functions as F"
   ]
  },
  {
   "cell_type": "markdown",
   "metadata": {},
   "source": [
    "## Load and inspect datasets"
   ]
  },
  {
   "cell_type": "markdown",
   "metadata": {},
   "source": [
    "### Behavioral and task data\n",
    "\n",
    "Analysis were performed on 36 sessions with high accuracy on **non-inference** trials (e.g., suggests that patients understood the task). The following datasets should therefore contain 36 entries each:\n",
    "\n",
    "* `beh_data` contains behavioral data organized by recording session, including `events`, which tracks the timing of specific events (erecording start, stimulus onset, response 1, response 2, recording end) for each session. \n",
    "* `task_data` contains information about trial-level task variables inlcuding `context` (1 or 2), `stim_sequence` (identity of the stimulus on a current trial, corresponding to specific [response, reward, context] combinations; *these are not aligned between sessions*), and `response_sequence` (the required response for the current trial).\n",
    "\n",
    "The most important event codes `36` (response 1) and `31` (response 2), which are used in the `get_session_accuracy` method to see if the patient's true response matches the required `response_sequence` for that task."
   ]
  },
  {
   "cell_type": "code",
   "execution_count": 2,
   "metadata": {},
   "outputs": [
    {
     "name": "stdout",
     "output_type": "stream",
     "text": [
      "<class 'pandas.core.frame.DataFrame'>\n",
      "RangeIndex: 36 entries, 0 to 35\n",
      "Data columns (total 2 columns):\n",
      " #   Column     Non-Null Count  Dtype \n",
      "---  ------     --------------  ----- \n",
      " 0   sessionID  36 non-null     object\n",
      " 1   events     36 non-null     object\n",
      "dtypes: object(2)\n",
      "memory usage: 708.0+ bytes\n"
     ]
    }
   ],
   "source": [
    "with open(\"beh.json\", \"r\") as f:\n",
    "    all_beh_data = json.load(f)[\"beh\"]\n",
    "\n",
    "# Behavioral data\n",
    "beh_data = pd.DataFrame(all_beh_data[\"data\"])\n",
    "beh_data.info()"
   ]
  },
  {
   "cell_type": "code",
   "execution_count": 3,
   "metadata": {},
   "outputs": [
    {
     "data": {
      "text/html": [
       "<div>\n",
       "<style scoped>\n",
       "    .dataframe tbody tr th:only-of-type {\n",
       "        vertical-align: middle;\n",
       "    }\n",
       "\n",
       "    .dataframe tbody tr th {\n",
       "        vertical-align: top;\n",
       "    }\n",
       "\n",
       "    .dataframe thead th {\n",
       "        text-align: right;\n",
       "    }\n",
       "</style>\n",
       "<table border=\"1\" class=\"dataframe\">\n",
       "  <thead>\n",
       "    <tr style=\"text-align: right;\">\n",
       "      <th></th>\n",
       "      <th>sessionID</th>\n",
       "      <th>events</th>\n",
       "    </tr>\n",
       "  </thead>\n",
       "  <tbody>\n",
       "    <tr>\n",
       "      <th>0</th>\n",
       "      <td>P61CS_1</td>\n",
       "      <td>[[1551091404901085.0, 55], [1551091406087648.0...</td>\n",
       "    </tr>\n",
       "    <tr>\n",
       "      <th>1</th>\n",
       "      <td>P62CS_1</td>\n",
       "      <td>[[1555760333243868.0, 55], [1555760334376711.0...</td>\n",
       "    </tr>\n",
       "    <tr>\n",
       "      <th>2</th>\n",
       "      <td>P62CS_2</td>\n",
       "      <td>[[1555761804593152.0, 55], [1555761805744683.0...</td>\n",
       "    </tr>\n",
       "    <tr>\n",
       "      <th>3</th>\n",
       "      <td>P62CS_3</td>\n",
       "      <td>[[1556200582588169.0, 55], [1556200583950356.0...</td>\n",
       "    </tr>\n",
       "    <tr>\n",
       "      <th>4</th>\n",
       "      <td>P62CS_4</td>\n",
       "      <td>[[1556641173506903.0, 55], [1556641174833121.0...</td>\n",
       "    </tr>\n",
       "  </tbody>\n",
       "</table>\n",
       "</div>"
      ],
      "text/plain": [
       "  sessionID                                             events\n",
       "0   P61CS_1  [[1551091404901085.0, 55], [1551091406087648.0...\n",
       "1   P62CS_1  [[1555760333243868.0, 55], [1555760334376711.0...\n",
       "2   P62CS_2  [[1555761804593152.0, 55], [1555761805744683.0...\n",
       "3   P62CS_3  [[1556200582588169.0, 55], [1556200583950356.0...\n",
       "4   P62CS_4  [[1556641173506903.0, 55], [1556641174833121.0..."
      ]
     },
     "execution_count": 3,
     "metadata": {},
     "output_type": "execute_result"
    }
   ],
   "source": [
    "# Check top rows\n",
    "beh_data.head()"
   ]
  },
  {
   "cell_type": "code",
   "execution_count": 4,
   "metadata": {},
   "outputs": [
    {
     "name": "stdout",
     "output_type": "stream",
     "text": [
      "Session P61CS_1: 642 events\n",
      "Session P62CS_1: 482 events\n",
      "Session P62CS_2: 482 events\n",
      "Session P62CS_3: 482 events\n",
      "Session P62CS_4: 482 events\n",
      "Session P63CS_1: 482 events\n",
      "Session P63CS_2: 482 events\n",
      "Session P63CS_3: 482 events\n",
      "Session P65CS_1: 482 events\n",
      "Session P65CS_2: 482 events\n",
      "Session P65CS_3: 562 events\n",
      "Session P67CS_1: 482 events\n",
      "Session P67CS_2: 482 events\n",
      "Session P67CS_3: 482 events\n",
      "Session P67CS_4: 522 events\n",
      "Session P70CS_1: 482 events\n",
      "Session P71CS_1: 362 events\n",
      "Session P71CS_2: 482 events\n",
      "Session P73CS_1: 482 events\n",
      "Session P73CS_2: 482 events\n",
      "Session P73CS_3: 402 events\n",
      "Session P74CS_1: 482 events\n",
      "Session P74CS_2: 482 events\n",
      "Session P76CS_1: 482 events\n",
      "Session P78CS_1: 482 events\n",
      "Session P78CS_2: 482 events\n",
      "Session P79CS_1: 482 events\n",
      "Session P79CS_2: 482 events\n",
      "Session P79CS_3: 482 events\n",
      "Session TWH162_1: 482 events\n",
      "Session TWH163_1: 482 events\n",
      "Session TWH163_2: 482 events\n",
      "Session TWH165_1: 482 events\n",
      "Session TWH165_2: 482 events\n",
      "Session TWH172_1: 482 events\n",
      "Session TWH172_2: 482 events\n"
     ]
    }
   ],
   "source": [
    "# Check number of events in each session\n",
    "for i in range(len(beh_data)):\n",
    "    print(f\"Session {beh_data[\"sessionID\"][i]}: {len(beh_data[\"events\"][i])} events\")"
   ]
  },
  {
   "cell_type": "code",
   "execution_count": 5,
   "metadata": {},
   "outputs": [
    {
     "name": "stdout",
     "output_type": "stream",
     "text": [
      "<class 'pandas.core.frame.DataFrame'>\n",
      "RangeIndex: 36 entries, 0 to 35\n",
      "Data columns (total 10 columns):\n",
      " #   Column             Non-Null Count  Dtype \n",
      "---  ------             --------------  ----- \n",
      " 0   context            36 non-null     object\n",
      " 1   stim_sequence      36 non-null     object\n",
      " 2   reward_sequence    36 non-null     object\n",
      " 3   response_sequence  36 non-null     object\n",
      " 4   is_novel_variant   2 non-null      object\n",
      " 5   novel_stim_dir     2 non-null      object\n",
      " 6   novel_block_image  2 non-null      object\n",
      " 7   remapping          2 non-null      object\n",
      " 8   stim_to_replace    2 non-null      object\n",
      " 9   replace_name       2 non-null      object\n",
      "dtypes: object(10)\n",
      "memory usage: 2.9+ KB\n"
     ]
    }
   ],
   "source": [
    "# Task data\n",
    "task_data = pd.DataFrame(all_beh_data[\"task_info\"])\n",
    "task_data.info()"
   ]
  },
  {
   "cell_type": "code",
   "execution_count": 6,
   "metadata": {},
   "outputs": [
    {
     "data": {
      "text/html": [
       "<div>\n",
       "<style scoped>\n",
       "    .dataframe tbody tr th:only-of-type {\n",
       "        vertical-align: middle;\n",
       "    }\n",
       "\n",
       "    .dataframe tbody tr th {\n",
       "        vertical-align: top;\n",
       "    }\n",
       "\n",
       "    .dataframe thead th {\n",
       "        text-align: right;\n",
       "    }\n",
       "</style>\n",
       "<table border=\"1\" class=\"dataframe\">\n",
       "  <thead>\n",
       "    <tr style=\"text-align: right;\">\n",
       "      <th></th>\n",
       "      <th>context</th>\n",
       "      <th>stim_sequence</th>\n",
       "      <th>reward_sequence</th>\n",
       "      <th>response_sequence</th>\n",
       "      <th>is_novel_variant</th>\n",
       "      <th>novel_stim_dir</th>\n",
       "      <th>novel_block_image</th>\n",
       "      <th>remapping</th>\n",
       "      <th>stim_to_replace</th>\n",
       "      <th>replace_name</th>\n",
       "    </tr>\n",
       "  </thead>\n",
       "  <tbody>\n",
       "    <tr>\n",
       "      <th>0</th>\n",
       "      <td>[2, 2, 2, 2, 2, 2, 2, 2, 2, 2, 2, 2, 2, 2, 2, ...</td>\n",
       "      <td>[2, 4, 1, 2, 4, 4, 4, 3, 1, 4, 4, 3, 4, 3, 2, ...</td>\n",
       "      <td>[25, 5, 5, 25, 5, 5, 5, 25, 5, 5, 5, 25, 5, 25...</td>\n",
       "      <td>[0, 0, 1, 0, 0, 0, 0, 1, 1, 0, 0, 1, 0, 1, 0, ...</td>\n",
       "      <td>NaN</td>\n",
       "      <td>NaN</td>\n",
       "      <td>NaN</td>\n",
       "      <td>NaN</td>\n",
       "      <td>NaN</td>\n",
       "      <td>NaN</td>\n",
       "    </tr>\n",
       "    <tr>\n",
       "      <th>1</th>\n",
       "      <td>[2, 2, 2, 2, 2, 2, 2, 2, 2, 2, 2, 2, 2, 2, 2, ...</td>\n",
       "      <td>[1, 2, 4, 4, 3, 2, 3, 1, 4, 4, 4, 2, 3, 1, 2, ...</td>\n",
       "      <td>[5, 25, 5, 5, 25, 25, 25, 5, 5, 5, 5, 25, 25, ...</td>\n",
       "      <td>[1, 0, 0, 0, 1, 0, 1, 1, 0, 0, 0, 0, 1, 1, 0, ...</td>\n",
       "      <td>NaN</td>\n",
       "      <td>NaN</td>\n",
       "      <td>NaN</td>\n",
       "      <td>NaN</td>\n",
       "      <td>NaN</td>\n",
       "      <td>NaN</td>\n",
       "    </tr>\n",
       "    <tr>\n",
       "      <th>2</th>\n",
       "      <td>[2, 2, 2, 2, 2, 2, 2, 2, 2, 2, 2, 2, 2, 2, 2, ...</td>\n",
       "      <td>[1, 3, 3, 4, 2, 2, 2, 4, 4, 1, 1, 2, 1, 3, 2, ...</td>\n",
       "      <td>[5, 25, 25, 5, 25, 25, 25, 5, 5, 5, 5, 25, 5, ...</td>\n",
       "      <td>[1, 1, 1, 0, 0, 0, 0, 0, 0, 1, 1, 0, 1, 1, 0, ...</td>\n",
       "      <td>NaN</td>\n",
       "      <td>NaN</td>\n",
       "      <td>NaN</td>\n",
       "      <td>NaN</td>\n",
       "      <td>NaN</td>\n",
       "      <td>NaN</td>\n",
       "    </tr>\n",
       "    <tr>\n",
       "      <th>3</th>\n",
       "      <td>[2, 2, 2, 2, 2, 2, 2, 2, 2, 2, 2, 2, 2, 2, 2, ...</td>\n",
       "      <td>[2, 2, 3, 3, 1, 2, 2, 3, 2, 4, 4, 2, 2, 3, 4, ...</td>\n",
       "      <td>[25, 25, 25, 25, 5, 25, 25, 25, 25, 5, 5, 25, ...</td>\n",
       "      <td>[0, 0, 1, 1, 1, 0, 0, 1, 0, 0, 0, 0, 0, 1, 0, ...</td>\n",
       "      <td>NaN</td>\n",
       "      <td>NaN</td>\n",
       "      <td>NaN</td>\n",
       "      <td>NaN</td>\n",
       "      <td>NaN</td>\n",
       "      <td>NaN</td>\n",
       "    </tr>\n",
       "    <tr>\n",
       "      <th>4</th>\n",
       "      <td>[2, 2, 2, 2, 2, 2, 2, 2, 2, 2, 2, 2, 2, 2, 1, ...</td>\n",
       "      <td>[2, 1, 2, 3, 2, 2, 4, 3, 3, 4, 2, 4, 4, 2, 3, ...</td>\n",
       "      <td>[25, 5, 25, 25, 25, 25, 5, 25, 25, 5, 25, 5, 5...</td>\n",
       "      <td>[0, 1, 0, 1, 0, 0, 0, 1, 1, 0, 0, 0, 0, 0, 0, ...</td>\n",
       "      <td>NaN</td>\n",
       "      <td>NaN</td>\n",
       "      <td>NaN</td>\n",
       "      <td>NaN</td>\n",
       "      <td>NaN</td>\n",
       "      <td>NaN</td>\n",
       "    </tr>\n",
       "  </tbody>\n",
       "</table>\n",
       "</div>"
      ],
      "text/plain": [
       "                                             context  \\\n",
       "0  [2, 2, 2, 2, 2, 2, 2, 2, 2, 2, 2, 2, 2, 2, 2, ...   \n",
       "1  [2, 2, 2, 2, 2, 2, 2, 2, 2, 2, 2, 2, 2, 2, 2, ...   \n",
       "2  [2, 2, 2, 2, 2, 2, 2, 2, 2, 2, 2, 2, 2, 2, 2, ...   \n",
       "3  [2, 2, 2, 2, 2, 2, 2, 2, 2, 2, 2, 2, 2, 2, 2, ...   \n",
       "4  [2, 2, 2, 2, 2, 2, 2, 2, 2, 2, 2, 2, 2, 2, 1, ...   \n",
       "\n",
       "                                       stim_sequence  \\\n",
       "0  [2, 4, 1, 2, 4, 4, 4, 3, 1, 4, 4, 3, 4, 3, 2, ...   \n",
       "1  [1, 2, 4, 4, 3, 2, 3, 1, 4, 4, 4, 2, 3, 1, 2, ...   \n",
       "2  [1, 3, 3, 4, 2, 2, 2, 4, 4, 1, 1, 2, 1, 3, 2, ...   \n",
       "3  [2, 2, 3, 3, 1, 2, 2, 3, 2, 4, 4, 2, 2, 3, 4, ...   \n",
       "4  [2, 1, 2, 3, 2, 2, 4, 3, 3, 4, 2, 4, 4, 2, 3, ...   \n",
       "\n",
       "                                     reward_sequence  \\\n",
       "0  [25, 5, 5, 25, 5, 5, 5, 25, 5, 5, 5, 25, 5, 25...   \n",
       "1  [5, 25, 5, 5, 25, 25, 25, 5, 5, 5, 5, 25, 25, ...   \n",
       "2  [5, 25, 25, 5, 25, 25, 25, 5, 5, 5, 5, 25, 5, ...   \n",
       "3  [25, 25, 25, 25, 5, 25, 25, 25, 25, 5, 5, 25, ...   \n",
       "4  [25, 5, 25, 25, 25, 25, 5, 25, 25, 5, 25, 5, 5...   \n",
       "\n",
       "                                   response_sequence is_novel_variant  \\\n",
       "0  [0, 0, 1, 0, 0, 0, 0, 1, 1, 0, 0, 1, 0, 1, 0, ...              NaN   \n",
       "1  [1, 0, 0, 0, 1, 0, 1, 1, 0, 0, 0, 0, 1, 1, 0, ...              NaN   \n",
       "2  [1, 1, 1, 0, 0, 0, 0, 0, 0, 1, 1, 0, 1, 1, 0, ...              NaN   \n",
       "3  [0, 0, 1, 1, 1, 0, 0, 1, 0, 0, 0, 0, 0, 1, 0, ...              NaN   \n",
       "4  [0, 1, 0, 1, 0, 0, 0, 1, 1, 0, 0, 0, 0, 0, 0, ...              NaN   \n",
       "\n",
       "  novel_stim_dir novel_block_image remapping stim_to_replace replace_name  \n",
       "0            NaN               NaN       NaN             NaN          NaN  \n",
       "1            NaN               NaN       NaN             NaN          NaN  \n",
       "2            NaN               NaN       NaN             NaN          NaN  \n",
       "3            NaN               NaN       NaN             NaN          NaN  \n",
       "4            NaN               NaN       NaN             NaN          NaN  "
      ]
     },
     "execution_count": 6,
     "metadata": {},
     "output_type": "execute_result"
    }
   ],
   "source": [
    "# Check top rows\n",
    "task_data.head()"
   ]
  },
  {
   "cell_type": "markdown",
   "metadata": {},
   "source": [
    "### Single-neuron recordings\n",
    "\n"
   ]
  },
  {
   "cell_type": "code",
   "execution_count": 7,
   "metadata": {},
   "outputs": [
    {
     "name": "stdout",
     "output_type": "stream",
     "text": [
      "<class 'pandas.core.frame.DataFrame'>\n",
      "RangeIndex: 2694 entries, 0 to 2693\n",
      "Data columns (total 3 columns):\n",
      " #   Column     Non-Null Count  Dtype \n",
      "---  ------     --------------  ----- \n",
      " 0   array      2694 non-null   object\n",
      " 1   cellinfo   2694 non-null   int64 \n",
      " 2   sessionID  2694 non-null   object\n",
      "dtypes: int64(1), object(2)\n",
      "memory usage: 63.3+ KB\n"
     ]
    }
   ],
   "source": [
    "# Neural data\n",
    "neu_data = pd.read_json(\"neu.json\")\n",
    "neu_data.info()"
   ]
  },
  {
   "cell_type": "code",
   "execution_count": 8,
   "metadata": {},
   "outputs": [
    {
     "data": {
      "text/html": [
       "<div>\n",
       "<style scoped>\n",
       "    .dataframe tbody tr th:only-of-type {\n",
       "        vertical-align: middle;\n",
       "    }\n",
       "\n",
       "    .dataframe tbody tr th {\n",
       "        vertical-align: top;\n",
       "    }\n",
       "\n",
       "    .dataframe thead th {\n",
       "        text-align: right;\n",
       "    }\n",
       "</style>\n",
       "<table border=\"1\" class=\"dataframe\">\n",
       "  <thead>\n",
       "    <tr style=\"text-align: right;\">\n",
       "      <th></th>\n",
       "      <th>array</th>\n",
       "      <th>cellinfo</th>\n",
       "      <th>sessionID</th>\n",
       "    </tr>\n",
       "  </thead>\n",
       "  <tbody>\n",
       "    <tr>\n",
       "      <th>0</th>\n",
       "      <td>[{'block_nr': 1, 'iscorrect': True, 'stim_id':...</td>\n",
       "      <td>2</td>\n",
       "      <td>P61CS_1</td>\n",
       "    </tr>\n",
       "    <tr>\n",
       "      <th>1</th>\n",
       "      <td>[{'block_nr': 1, 'iscorrect': True, 'stim_id':...</td>\n",
       "      <td>2</td>\n",
       "      <td>P61CS_1</td>\n",
       "    </tr>\n",
       "    <tr>\n",
       "      <th>2</th>\n",
       "      <td>[{'block_nr': 1, 'iscorrect': True, 'stim_id':...</td>\n",
       "      <td>2</td>\n",
       "      <td>P61CS_1</td>\n",
       "    </tr>\n",
       "    <tr>\n",
       "      <th>3</th>\n",
       "      <td>[{'block_nr': 1, 'iscorrect': True, 'stim_id':...</td>\n",
       "      <td>4</td>\n",
       "      <td>P61CS_1</td>\n",
       "    </tr>\n",
       "    <tr>\n",
       "      <th>4</th>\n",
       "      <td>[{'block_nr': 1, 'iscorrect': True, 'stim_id':...</td>\n",
       "      <td>4</td>\n",
       "      <td>P61CS_1</td>\n",
       "    </tr>\n",
       "  </tbody>\n",
       "</table>\n",
       "</div>"
      ],
      "text/plain": [
       "                                               array  cellinfo sessionID\n",
       "0  [{'block_nr': 1, 'iscorrect': True, 'stim_id':...         2   P61CS_1\n",
       "1  [{'block_nr': 1, 'iscorrect': True, 'stim_id':...         2   P61CS_1\n",
       "2  [{'block_nr': 1, 'iscorrect': True, 'stim_id':...         2   P61CS_1\n",
       "3  [{'block_nr': 1, 'iscorrect': True, 'stim_id':...         4   P61CS_1\n",
       "4  [{'block_nr': 1, 'iscorrect': True, 'stim_id':...         4   P61CS_1"
      ]
     },
     "execution_count": 8,
     "metadata": {},
     "output_type": "execute_result"
    }
   ],
   "source": [
    "# Check top rows\n",
    "neu_data.head()"
   ]
  },
  {
   "cell_type": "markdown",
   "metadata": {},
   "source": [
    "🔺 **Neuron counts in preSMA do not match paper (p. 842), although total counts do. Potential typo?**"
   ]
  },
  {
   "cell_type": "code",
   "execution_count": 9,
   "metadata": {},
   "outputs": [
    {
     "name": "stdout",
     "output_type": "stream",
     "text": [
      "Area name: HPC. Data count: 494, True count: 494.\n",
      "Area name: vmPFC. Data count: 889, True count: 463.\n",
      "Area name: AMY. Data count: 269, True count: 889.\n",
      "Area name: dACC. Data count: 310, True count: 310.\n",
      "Area name: preSMA. Data count: 463, True count: 269.\n",
      "Area name: VTC. Data count: 269, True count: 269.\n"
     ]
    }
   ],
   "source": [
    "# Check brain area counts against paper\n",
    "brain_areas = F.define_cell_area_groups(neu_data)\n",
    "true_area_counts = {\n",
    "    \"HPC\" : 494,\n",
    "    \"vmPFC\" : 463,\n",
    "    \"AMY\" : 889,\n",
    "    \"dACC\" : 310,\n",
    "    \"preSMA\" : 269,\n",
    "    \"VTC\" : 269\n",
    "}\n",
    "for key, value in brain_areas.items():\n",
    "    print(f\"Area name: {key}. Data count: {len(value)}, True count: {true_area_counts[key]}.\")"
   ]
  },
  {
   "cell_type": "code",
   "execution_count": 18,
   "metadata": {},
   "outputs": [
    {
     "name": "stdout",
     "output_type": "stream",
     "text": [
      "<class 'pandas.core.frame.DataFrame'>\n",
      "RangeIndex: 320 entries, 0 to 319\n",
      "Data columns (total 9 columns):\n",
      " #   Column     Non-Null Count  Dtype  \n",
      "---  ------     --------------  -----  \n",
      " 0   block_nr   320 non-null    int64  \n",
      " 1   iscorrect  320 non-null    bool   \n",
      " 2   stim_id    320 non-null    int64  \n",
      " 3   context    320 non-null    int64  \n",
      " 4   reward     320 non-null    int64  \n",
      " 5   response   320 non-null    int64  \n",
      " 6   trial_nr   320 non-null    int64  \n",
      " 7   fr_stim    320 non-null    int64  \n",
      " 8   fr_base    320 non-null    float64\n",
      "dtypes: bool(1), float64(1), int64(7)\n",
      "memory usage: 20.4 KB\n"
     ]
    }
   ],
   "source": [
    "# Example of cell-level data\n",
    "example_cell_data = F.get_cell_array(neu_data, cell_idx=42)\n",
    "example_cell_data.info()"
   ]
  },
  {
   "cell_type": "code",
   "execution_count": 19,
   "metadata": {},
   "outputs": [
    {
     "data": {
      "text/html": [
       "<div>\n",
       "<style scoped>\n",
       "    .dataframe tbody tr th:only-of-type {\n",
       "        vertical-align: middle;\n",
       "    }\n",
       "\n",
       "    .dataframe tbody tr th {\n",
       "        vertical-align: top;\n",
       "    }\n",
       "\n",
       "    .dataframe thead th {\n",
       "        text-align: right;\n",
       "    }\n",
       "</style>\n",
       "<table border=\"1\" class=\"dataframe\">\n",
       "  <thead>\n",
       "    <tr style=\"text-align: right;\">\n",
       "      <th></th>\n",
       "      <th>block_nr</th>\n",
       "      <th>iscorrect</th>\n",
       "      <th>stim_id</th>\n",
       "      <th>context</th>\n",
       "      <th>reward</th>\n",
       "      <th>response</th>\n",
       "      <th>trial_nr</th>\n",
       "      <th>fr_stim</th>\n",
       "      <th>fr_base</th>\n",
       "    </tr>\n",
       "  </thead>\n",
       "  <tbody>\n",
       "    <tr>\n",
       "      <th>0</th>\n",
       "      <td>1</td>\n",
       "      <td>True</td>\n",
       "      <td>2</td>\n",
       "      <td>2</td>\n",
       "      <td>25</td>\n",
       "      <td>0</td>\n",
       "      <td>1</td>\n",
       "      <td>0</td>\n",
       "      <td>0.000000</td>\n",
       "    </tr>\n",
       "    <tr>\n",
       "      <th>1</th>\n",
       "      <td>1</td>\n",
       "      <td>True</td>\n",
       "      <td>4</td>\n",
       "      <td>2</td>\n",
       "      <td>5</td>\n",
       "      <td>0</td>\n",
       "      <td>2</td>\n",
       "      <td>2</td>\n",
       "      <td>0.000000</td>\n",
       "    </tr>\n",
       "    <tr>\n",
       "      <th>2</th>\n",
       "      <td>1</td>\n",
       "      <td>True</td>\n",
       "      <td>1</td>\n",
       "      <td>2</td>\n",
       "      <td>5</td>\n",
       "      <td>1</td>\n",
       "      <td>3</td>\n",
       "      <td>2</td>\n",
       "      <td>0.909091</td>\n",
       "    </tr>\n",
       "    <tr>\n",
       "      <th>3</th>\n",
       "      <td>1</td>\n",
       "      <td>True</td>\n",
       "      <td>2</td>\n",
       "      <td>2</td>\n",
       "      <td>25</td>\n",
       "      <td>0</td>\n",
       "      <td>4</td>\n",
       "      <td>0</td>\n",
       "      <td>1.818182</td>\n",
       "    </tr>\n",
       "    <tr>\n",
       "      <th>4</th>\n",
       "      <td>1</td>\n",
       "      <td>True</td>\n",
       "      <td>4</td>\n",
       "      <td>2</td>\n",
       "      <td>5</td>\n",
       "      <td>0</td>\n",
       "      <td>5</td>\n",
       "      <td>1</td>\n",
       "      <td>0.000000</td>\n",
       "    </tr>\n",
       "  </tbody>\n",
       "</table>\n",
       "</div>"
      ],
      "text/plain": [
       "   block_nr  iscorrect  stim_id  context  reward  response  trial_nr  fr_stim  \\\n",
       "0         1       True        2        2      25         0         1        0   \n",
       "1         1       True        4        2       5         0         2        2   \n",
       "2         1       True        1        2       5         1         3        2   \n",
       "3         1       True        2        2      25         0         4        0   \n",
       "4         1       True        4        2       5         0         5        1   \n",
       "\n",
       "    fr_base  \n",
       "0  0.000000  \n",
       "1  0.000000  \n",
       "2  0.909091  \n",
       "3  1.818182  \n",
       "4  0.000000  "
      ]
     },
     "execution_count": 19,
     "metadata": {},
     "output_type": "execute_result"
    }
   ],
   "source": [
    "example_cell_data.head()"
   ]
  },
  {
   "cell_type": "markdown",
   "metadata": {},
   "source": [
    "🔺 **Paper states that each recording session consists of 280-320 trials grouped into 10-16 blocks different sizes; data shows trial counts as low as 180.**"
   ]
  },
  {
   "cell_type": "code",
   "execution_count": 11,
   "metadata": {},
   "outputs": [
    {
     "data": {
      "text/plain": [
       "n_trials\n",
       "240    2309\n",
       "260     119\n",
       "200     105\n",
       "180      65\n",
       "320      57\n",
       "280      39\n",
       "Name: count, dtype: int64"
      ]
     },
     "execution_count": 11,
     "metadata": {},
     "output_type": "execute_result"
    }
   ],
   "source": [
    "# Check unique trial counts\n",
    "neu_data[\"n_trials\"] = neu_data[\"array\"].apply(lambda x : len(x))\n",
    "neu_data[\"n_trials\"].value_counts()"
   ]
  },
  {
   "cell_type": "markdown",
   "metadata": {},
   "source": [
    "## Balanced dichotomies of task conditions\n",
    "\n",
    "Task conditions are defined by the following `[stimulus identity, response, outcome, context]` sets:\n",
    "1. `[C, left, 5, 1]`\n",
    "2. `[D, right, 5, 1]`\n",
    "3. `[A, left, 25, 1]`\n",
    "4. `[B, right, 25, 1]`\n",
    "5. `[D, left, 5, 2]`\n",
    "6. `[A, right, 5, 2]`\n",
    "7. `[B, left, 25, 2]`\n",
    "8. `[C, right, 25, 2]`\n",
    "\n",
    "Note that Python uses 0 indexing.\n",
    "\n",
    "The set of **balanced dichotomies** is defined by all possible ways that the 8 task conditions can be split into pairs of 4 conditions each (`(8 choose 4)/2 = 35` groups)."
   ]
  },
  {
   "cell_type": "code",
   "execution_count": 17,
   "metadata": {},
   "outputs": [],
   "source": [
    "# Left is 0, right is 1\n",
    "dichotomy_labels = [\n",
    "    [0, 5, 1],\n",
    "    [1, 5, 1],\n",
    "    [0, 25, 1],\n",
    "    [1, 25, 1],\n",
    "    [0, 5, 2],\n",
    "    [1, 5, 2],\n",
    "    [0, 25, 2],\n",
    "    [1, 5, 2]\n",
    "]"
   ]
  },
  {
   "cell_type": "code",
   "execution_count": 12,
   "metadata": {},
   "outputs": [],
   "source": [
    "interpretations, pos_set, neg_set = F.define_dichotomies()"
   ]
  },
  {
   "cell_type": "code",
   "execution_count": 13,
   "metadata": {},
   "outputs": [
    {
     "name": "stdout",
     "output_type": "stream",
     "text": [
      "35 35\n"
     ]
    }
   ],
   "source": [
    "# Check that there are 35 dichotomies\n",
    "print(len(pos_set), len(neg_set))"
   ]
  },
  {
   "cell_type": "code",
   "execution_count": 14,
   "metadata": {},
   "outputs": [
    {
     "name": "stdout",
     "output_type": "stream",
     "text": [
      "Interpretation: context\n",
      "Class 1: [0 1 2 3], Class 2: [4 5 6 7]\n",
      "Interpretation: outcome\n",
      "Class 1: [0 1 4 5], Class 2: [2 3 6 7]\n",
      "Interpretation: AB vs CD\n",
      "Class 1: [0 1 4 7], Class 2: [2 3 5 6]\n",
      "Interpretation: response\n",
      "Class 1: [0 2 4 6], Class 2: [1 3 5 7]\n",
      "Interpretation: AC vs BD\n",
      "Class 1: [0 2 5 7], Class 2: [1 3 4 6]\n",
      "Interpretation: parity\n",
      "Class 1: [0 3 5 6], Class 2: [1 2 4 7]\n",
      "Interpretation: AD vs BC\n",
      "Class 1: [0 4 5 6], Class 2: [1 2 3 7]\n"
     ]
    }
   ],
   "source": [
    "# Check dichotomies with straightforward interpretations\n",
    "for key, value in interpretations.items():\n",
    "    print(f\"Interpretation: {value}\")\n",
    "    print(f\"Class 1: {pos_set[key]}, Class 2: {neg_set[key]}\")"
   ]
  },
  {
   "cell_type": "markdown",
   "metadata": {},
   "source": [
    "Note: `AB vs CD` is also called the **stimulus pair**, the grouping of stimuli where the response is the same in either context. **Parity** is the grouping with the \"maximal nonlinear interaction between task variables.\""
   ]
  },
  {
   "cell_type": "markdown",
   "metadata": {},
   "source": [
    "## Data pre-processing\n",
    "\n"
   ]
  },
  {
   "cell_type": "markdown",
   "metadata": {},
   "source": [
    "### Constructing a pseudo-population\n",
    "\n",
    "Neuron recordings from all patients were combined to form a \"pseudopopulation.\" Neurons included in analyses have at least `K = 15` trials from each unique task condition. The pseudopopulation is constructed by randomly sampling `K` trials for each condition for each neuron independently."
   ]
  },
  {
   "cell_type": "code",
   "execution_count": 21,
   "metadata": {},
   "outputs": [
    {
     "data": {
      "text/html": [
       "<div>\n",
       "<style scoped>\n",
       "    .dataframe tbody tr th:only-of-type {\n",
       "        vertical-align: middle;\n",
       "    }\n",
       "\n",
       "    .dataframe tbody tr th {\n",
       "        vertical-align: top;\n",
       "    }\n",
       "\n",
       "    .dataframe thead th {\n",
       "        text-align: right;\n",
       "    }\n",
       "</style>\n",
       "<table border=\"1\" class=\"dataframe\">\n",
       "  <thead>\n",
       "    <tr style=\"text-align: right;\">\n",
       "      <th></th>\n",
       "      <th>context_1_reward_0_response_0</th>\n",
       "      <th>context_1_reward_0_response_1</th>\n",
       "      <th>context_1_reward_5_response_0</th>\n",
       "      <th>context_1_reward_5_response_1</th>\n",
       "      <th>context_1_reward_25_response_0</th>\n",
       "      <th>context_1_reward_25_response_1</th>\n",
       "      <th>context_2_reward_0_response_0</th>\n",
       "      <th>context_2_reward_0_response_1</th>\n",
       "      <th>context_2_reward_5_response_0</th>\n",
       "      <th>context_2_reward_5_response_1</th>\n",
       "      <th>context_2_reward_25_response_0</th>\n",
       "      <th>context_2_reward_25_response_1</th>\n",
       "    </tr>\n",
       "  </thead>\n",
       "  <tbody>\n",
       "    <tr>\n",
       "      <th>0</th>\n",
       "      <td>False</td>\n",
       "      <td>False</td>\n",
       "      <td>False</td>\n",
       "      <td>False</td>\n",
       "      <td>False</td>\n",
       "      <td>False</td>\n",
       "      <td>False</td>\n",
       "      <td>False</td>\n",
       "      <td>False</td>\n",
       "      <td>False</td>\n",
       "      <td>True</td>\n",
       "      <td>False</td>\n",
       "    </tr>\n",
       "    <tr>\n",
       "      <th>1</th>\n",
       "      <td>False</td>\n",
       "      <td>False</td>\n",
       "      <td>False</td>\n",
       "      <td>False</td>\n",
       "      <td>False</td>\n",
       "      <td>False</td>\n",
       "      <td>False</td>\n",
       "      <td>False</td>\n",
       "      <td>True</td>\n",
       "      <td>False</td>\n",
       "      <td>False</td>\n",
       "      <td>False</td>\n",
       "    </tr>\n",
       "    <tr>\n",
       "      <th>2</th>\n",
       "      <td>False</td>\n",
       "      <td>False</td>\n",
       "      <td>False</td>\n",
       "      <td>False</td>\n",
       "      <td>False</td>\n",
       "      <td>False</td>\n",
       "      <td>False</td>\n",
       "      <td>False</td>\n",
       "      <td>False</td>\n",
       "      <td>True</td>\n",
       "      <td>False</td>\n",
       "      <td>False</td>\n",
       "    </tr>\n",
       "    <tr>\n",
       "      <th>3</th>\n",
       "      <td>False</td>\n",
       "      <td>False</td>\n",
       "      <td>False</td>\n",
       "      <td>False</td>\n",
       "      <td>False</td>\n",
       "      <td>False</td>\n",
       "      <td>False</td>\n",
       "      <td>False</td>\n",
       "      <td>False</td>\n",
       "      <td>False</td>\n",
       "      <td>True</td>\n",
       "      <td>False</td>\n",
       "    </tr>\n",
       "    <tr>\n",
       "      <th>4</th>\n",
       "      <td>False</td>\n",
       "      <td>False</td>\n",
       "      <td>False</td>\n",
       "      <td>False</td>\n",
       "      <td>False</td>\n",
       "      <td>False</td>\n",
       "      <td>False</td>\n",
       "      <td>False</td>\n",
       "      <td>True</td>\n",
       "      <td>False</td>\n",
       "      <td>False</td>\n",
       "      <td>False</td>\n",
       "    </tr>\n",
       "  </tbody>\n",
       "</table>\n",
       "</div>"
      ],
      "text/plain": [
       "   context_1_reward_0_response_0  context_1_reward_0_response_1  \\\n",
       "0                          False                          False   \n",
       "1                          False                          False   \n",
       "2                          False                          False   \n",
       "3                          False                          False   \n",
       "4                          False                          False   \n",
       "\n",
       "   context_1_reward_5_response_0  context_1_reward_5_response_1  \\\n",
       "0                          False                          False   \n",
       "1                          False                          False   \n",
       "2                          False                          False   \n",
       "3                          False                          False   \n",
       "4                          False                          False   \n",
       "\n",
       "   context_1_reward_25_response_0  context_1_reward_25_response_1  \\\n",
       "0                           False                           False   \n",
       "1                           False                           False   \n",
       "2                           False                           False   \n",
       "3                           False                           False   \n",
       "4                           False                           False   \n",
       "\n",
       "   context_2_reward_0_response_0  context_2_reward_0_response_1  \\\n",
       "0                          False                          False   \n",
       "1                          False                          False   \n",
       "2                          False                          False   \n",
       "3                          False                          False   \n",
       "4                          False                          False   \n",
       "\n",
       "   context_2_reward_5_response_0  context_2_reward_5_response_1  \\\n",
       "0                          False                          False   \n",
       "1                           True                          False   \n",
       "2                          False                           True   \n",
       "3                          False                          False   \n",
       "4                           True                          False   \n",
       "\n",
       "   context_2_reward_25_response_0  context_2_reward_25_response_1  \n",
       "0                            True                           False  \n",
       "1                           False                           False  \n",
       "2                           False                           False  \n",
       "3                            True                           False  \n",
       "4                           False                           False  "
      ]
     },
     "execution_count": 21,
     "metadata": {},
     "output_type": "execute_result"
    }
   ],
   "source": [
    "# Make groups with all possible combinations for variables of interet\n",
    "# In practice, the relevant variables are response, reward, and context\n",
    "variable_groups = F.make_variable_groups(\n",
    "    example_cell_data,\n",
    "    var_names=[\"context\", \"reward\", \"response\"]\n",
    ")\n",
    "variable_groups.head()"
   ]
  },
  {
   "cell_type": "code",
   "execution_count": 31,
   "metadata": {},
   "outputs": [
    {
     "name": "stdout",
     "output_type": "stream",
     "text": [
      "Column index: 0, Name: context_1_reward_5_response_0\n",
      "Match: True\n",
      "Column index: 1, Name: context_1_reward_5_response_1\n",
      "Match: True\n",
      "Column index: 2, Name: context_1_reward_25_response_0\n",
      "Match: True\n",
      "Column index: 3, Name: context_1_reward_25_response_1\n",
      "Match: True\n",
      "Column index: 4, Name: context_2_reward_5_response_0\n",
      "Match: True\n",
      "Column index: 5, Name: context_2_reward_5_response_1\n",
      "Match: True\n",
      "Column index: 6, Name: context_2_reward_25_response_0\n",
      "Match: True\n",
      "Column index: 7, Name: context_2_reward_25_response_1\n",
      "Match: False\n"
     ]
    }
   ],
   "source": [
    "# Check that column order matches task condition definitions\n",
    "correct_cols = [col for col in variable_groups.columns if \"reward_0\" not in col]\n",
    "for i, col in enumerate(correct_cols):\n",
    "    variable_nums = re.findall(r'\\d+', col)\n",
    "    variable_nums = [int(n) for n in variable_nums]\n",
    "    variable_nums.reverse()\n",
    "    print(f\"Column index: {i}, Name: {col}\")\n",
    "    print(f\"Match: {variable_nums == dichotomy_labels[i]}\")"
   ]
  },
  {
   "cell_type": "markdown",
   "metadata": {},
   "source": [
    "The `construct_regressors` method selects neurons (each represented by a row of the data) to include in analysis. The data of each cell is a list of firing rates for the given trial type."
   ]
  },
  {
   "cell_type": "code",
   "execution_count": 44,
   "metadata": {},
   "outputs": [
    {
     "data": {
      "text/html": [
       "<div>\n",
       "<style scoped>\n",
       "    .dataframe tbody tr th:only-of-type {\n",
       "        vertical-align: middle;\n",
       "    }\n",
       "\n",
       "    .dataframe tbody tr th {\n",
       "        vertical-align: top;\n",
       "    }\n",
       "\n",
       "    .dataframe thead th {\n",
       "        text-align: right;\n",
       "    }\n",
       "</style>\n",
       "<table border=\"1\" class=\"dataframe\">\n",
       "  <thead>\n",
       "    <tr style=\"text-align: right;\">\n",
       "      <th></th>\n",
       "      <th>context_1_reward_5_response_0</th>\n",
       "      <th>context_1_reward_5_response_1</th>\n",
       "      <th>context_1_reward_25_response_0</th>\n",
       "      <th>context_1_reward_25_response_1</th>\n",
       "      <th>context_2_reward_5_response_0</th>\n",
       "      <th>context_2_reward_5_response_1</th>\n",
       "      <th>context_2_reward_25_response_0</th>\n",
       "      <th>context_2_reward_25_response_1</th>\n",
       "    </tr>\n",
       "  </thead>\n",
       "  <tbody>\n",
       "    <tr>\n",
       "      <th>0</th>\n",
       "      <td>[2, 0, 5, 1, 2, 0, 1, 3, 2, 1, 3, 3, 4, 0, 1, ...</td>\n",
       "      <td>[0, 3, 2, 4, 0, 0, 3, 2, 0, 3, 0, 1, 0, 2, 4, ...</td>\n",
       "      <td>[0, 4, 3, 0, 5, 0, 4, 0, 1, 3, 2, 0, 1, 1, 0, ...</td>\n",
       "      <td>[0, 1, 2, 1, 5, 2, 1, 1, 3, 2, 2, 0, 1, 0, 2, ...</td>\n",
       "      <td>[0, 0, 1, 1, 0, 2, 1, 3, 1, 0, 4, 0, 0, 0, 0, ...</td>\n",
       "      <td>[2, 0, 1, 3, 1, 2, 0, 4, 0, 0, 1, 2, 1, 3, 3, ...</td>\n",
       "      <td>[0, 1, 1, 2, 1, 3, 2, 2, 0, 2, 3, 0, 0, 0, 0, ...</td>\n",
       "      <td>[1, 7, 2, 3, 1, 1, 0, 1, 3, 0, 1, 2, 2, 3, 0, ...</td>\n",
       "    </tr>\n",
       "    <tr>\n",
       "      <th>1</th>\n",
       "      <td>[4, 3, 2, 2, 7, 0, 6, 0, 5, 4, 1, 4, 3, 4, 3, ...</td>\n",
       "      <td>[3, 3, 3, 1, 5, 4, 4, 3, 3, 0, 6, 2, 5, 4, 3, ...</td>\n",
       "      <td>[0, 3, 5, 3, 6, 2, 3, 1, 3, 0, 2, 0, 10, 3, 4,...</td>\n",
       "      <td>[3, 1, 3, 2, 2, 4, 3, 6, 3, 2, 1, 0, 4, 2, 1, ...</td>\n",
       "      <td>[0, 1, 3, 1, 4, 2, 2, 4, 0, 1, 6, 0, 3, 0, 2, ...</td>\n",
       "      <td>[1, 3, 4, 1, 5, 3, 1, 2, 2, 2, 3, 2, 0, 1, 1, ...</td>\n",
       "      <td>[2, 1, 3, 3, 4, 3, 1, 1, 2, 2, 1, 3, 0, 0, 1, ...</td>\n",
       "      <td>[6, 1, 5, 1, 2, 1, 0, 1, 4, 0, 3, 2, 2, 6, 3, ...</td>\n",
       "    </tr>\n",
       "    <tr>\n",
       "      <th>2</th>\n",
       "      <td>[0, 0, 0, 0, 0, 0, 3, 1, 1, 0, 0, 1, 1, 1, 0, ...</td>\n",
       "      <td>[0, 0, 2, 1, 1, 0, 2, 0, 0, 0, 2, 0, 0, 0, 1, ...</td>\n",
       "      <td>[1, 0, 0, 0, 2, 1, 2, 1, 0, 0, 0, 0, 0, 0, 1, ...</td>\n",
       "      <td>[0, 1, 0, 0, 2, 0, 1, 0, 1, 0, 0, 0, 0, 0, 0, ...</td>\n",
       "      <td>[1, 0, 1, 1, 1, 1, 0, 0, 1, 1, 1, 0, 2, 0, 0, ...</td>\n",
       "      <td>[0, 1, 0, 3, 0, 0, 1, 1, 0, 1, 1, 0, 2, 0, 0, ...</td>\n",
       "      <td>[2, 0, 1, 0, 0, 0, 2, 0, 0, 0, 0, 0, 1, 0, 1, ...</td>\n",
       "      <td>[2, 1, 0, 1, 0, 0, 2, 0, 0, 1, 1, 3, 1, 0, 0, ...</td>\n",
       "    </tr>\n",
       "    <tr>\n",
       "      <th>3</th>\n",
       "      <td>[0, 0, 0, 0, 11, 11, 0, 0, 0, 0, 0, 0, 0, 0, 0...</td>\n",
       "      <td>[0, 0, 0, 6, 4, 19, 0, 0, 1, 1, 0, 0, 1, 0, 0,...</td>\n",
       "      <td>[0, 4, 15, 5, 0, 0, 0, 0, 0, 0, 0, 1, 0, 0, 1,...</td>\n",
       "      <td>[1, 0, 0, 6, 0, 4, 0, 0, 1, 0, 0, 0, 0, 0, 0, ...</td>\n",
       "      <td>[1, 0, 0, 0, 0, 0, 0, 0, 1, 0, 1, 0, 0, 0, 0, ...</td>\n",
       "      <td>[4, 0, 0, 1, 0, 0, 0, 0, 0, 0, 0, 3, 0, 0, 0, ...</td>\n",
       "      <td>[1, 1, 0, 0, 1, 0, 0, 0, 0, 0, 1, 0, 0, 0, 0, ...</td>\n",
       "      <td>[0, 0, 0, 0, 0, 0, 0, 0, 0, 0, 1, 0, 1, 0, 0, ...</td>\n",
       "    </tr>\n",
       "    <tr>\n",
       "      <th>4</th>\n",
       "      <td>[4, 12, 7, 4, 17, 5, 5, 4, 5, 8, 12, 5, 7, 2, ...</td>\n",
       "      <td>[6, 3, 7, 5, 19, 3, 9, 14, 10, 10, 4, 10, 4, 8...</td>\n",
       "      <td>[6, 12, 3, 4, 4, 6, 3, 6, 7, 10, 4, 4, 9, 11, ...</td>\n",
       "      <td>[5, 8, 6, 4, 2, 8, 4, 2, 13, 3, 4, 0, 4, 6, 3,...</td>\n",
       "      <td>[0, 7, 5, 6, 7, 10, 5, 6, 13, 7, 2, 5, 5, 5, 6...</td>\n",
       "      <td>[0, 5, 3, 3, 9, 6, 4, 6, 6, 6, 6, 4, 11, 3, 1,...</td>\n",
       "      <td>[0, 15, 9, 5, 6, 8, 13, 7, 9, 6, 6, 6, 3, 9, 7...</td>\n",
       "      <td>[9, 4, 14, 3, 4, 9, 1, 1, 8, 2, 17, 10, 4, 5, ...</td>\n",
       "    </tr>\n",
       "  </tbody>\n",
       "</table>\n",
       "</div>"
      ],
      "text/plain": [
       "                       context_1_reward_5_response_0  \\\n",
       "0  [2, 0, 5, 1, 2, 0, 1, 3, 2, 1, 3, 3, 4, 0, 1, ...   \n",
       "1  [4, 3, 2, 2, 7, 0, 6, 0, 5, 4, 1, 4, 3, 4, 3, ...   \n",
       "2  [0, 0, 0, 0, 0, 0, 3, 1, 1, 0, 0, 1, 1, 1, 0, ...   \n",
       "3  [0, 0, 0, 0, 11, 11, 0, 0, 0, 0, 0, 0, 0, 0, 0...   \n",
       "4  [4, 12, 7, 4, 17, 5, 5, 4, 5, 8, 12, 5, 7, 2, ...   \n",
       "\n",
       "                       context_1_reward_5_response_1  \\\n",
       "0  [0, 3, 2, 4, 0, 0, 3, 2, 0, 3, 0, 1, 0, 2, 4, ...   \n",
       "1  [3, 3, 3, 1, 5, 4, 4, 3, 3, 0, 6, 2, 5, 4, 3, ...   \n",
       "2  [0, 0, 2, 1, 1, 0, 2, 0, 0, 0, 2, 0, 0, 0, 1, ...   \n",
       "3  [0, 0, 0, 6, 4, 19, 0, 0, 1, 1, 0, 0, 1, 0, 0,...   \n",
       "4  [6, 3, 7, 5, 19, 3, 9, 14, 10, 10, 4, 10, 4, 8...   \n",
       "\n",
       "                      context_1_reward_25_response_0  \\\n",
       "0  [0, 4, 3, 0, 5, 0, 4, 0, 1, 3, 2, 0, 1, 1, 0, ...   \n",
       "1  [0, 3, 5, 3, 6, 2, 3, 1, 3, 0, 2, 0, 10, 3, 4,...   \n",
       "2  [1, 0, 0, 0, 2, 1, 2, 1, 0, 0, 0, 0, 0, 0, 1, ...   \n",
       "3  [0, 4, 15, 5, 0, 0, 0, 0, 0, 0, 0, 1, 0, 0, 1,...   \n",
       "4  [6, 12, 3, 4, 4, 6, 3, 6, 7, 10, 4, 4, 9, 11, ...   \n",
       "\n",
       "                      context_1_reward_25_response_1  \\\n",
       "0  [0, 1, 2, 1, 5, 2, 1, 1, 3, 2, 2, 0, 1, 0, 2, ...   \n",
       "1  [3, 1, 3, 2, 2, 4, 3, 6, 3, 2, 1, 0, 4, 2, 1, ...   \n",
       "2  [0, 1, 0, 0, 2, 0, 1, 0, 1, 0, 0, 0, 0, 0, 0, ...   \n",
       "3  [1, 0, 0, 6, 0, 4, 0, 0, 1, 0, 0, 0, 0, 0, 0, ...   \n",
       "4  [5, 8, 6, 4, 2, 8, 4, 2, 13, 3, 4, 0, 4, 6, 3,...   \n",
       "\n",
       "                       context_2_reward_5_response_0  \\\n",
       "0  [0, 0, 1, 1, 0, 2, 1, 3, 1, 0, 4, 0, 0, 0, 0, ...   \n",
       "1  [0, 1, 3, 1, 4, 2, 2, 4, 0, 1, 6, 0, 3, 0, 2, ...   \n",
       "2  [1, 0, 1, 1, 1, 1, 0, 0, 1, 1, 1, 0, 2, 0, 0, ...   \n",
       "3  [1, 0, 0, 0, 0, 0, 0, 0, 1, 0, 1, 0, 0, 0, 0, ...   \n",
       "4  [0, 7, 5, 6, 7, 10, 5, 6, 13, 7, 2, 5, 5, 5, 6...   \n",
       "\n",
       "                       context_2_reward_5_response_1  \\\n",
       "0  [2, 0, 1, 3, 1, 2, 0, 4, 0, 0, 1, 2, 1, 3, 3, ...   \n",
       "1  [1, 3, 4, 1, 5, 3, 1, 2, 2, 2, 3, 2, 0, 1, 1, ...   \n",
       "2  [0, 1, 0, 3, 0, 0, 1, 1, 0, 1, 1, 0, 2, 0, 0, ...   \n",
       "3  [4, 0, 0, 1, 0, 0, 0, 0, 0, 0, 0, 3, 0, 0, 0, ...   \n",
       "4  [0, 5, 3, 3, 9, 6, 4, 6, 6, 6, 6, 4, 11, 3, 1,...   \n",
       "\n",
       "                      context_2_reward_25_response_0  \\\n",
       "0  [0, 1, 1, 2, 1, 3, 2, 2, 0, 2, 3, 0, 0, 0, 0, ...   \n",
       "1  [2, 1, 3, 3, 4, 3, 1, 1, 2, 2, 1, 3, 0, 0, 1, ...   \n",
       "2  [2, 0, 1, 0, 0, 0, 2, 0, 0, 0, 0, 0, 1, 0, 1, ...   \n",
       "3  [1, 1, 0, 0, 1, 0, 0, 0, 0, 0, 1, 0, 0, 0, 0, ...   \n",
       "4  [0, 15, 9, 5, 6, 8, 13, 7, 9, 6, 6, 6, 3, 9, 7...   \n",
       "\n",
       "                      context_2_reward_25_response_1  \n",
       "0  [1, 7, 2, 3, 1, 1, 0, 1, 3, 0, 1, 2, 2, 3, 0, ...  \n",
       "1  [6, 1, 5, 1, 2, 1, 0, 1, 4, 0, 3, 2, 2, 6, 3, ...  \n",
       "2  [2, 1, 0, 1, 0, 0, 2, 0, 0, 1, 1, 3, 1, 0, 0, ...  \n",
       "3  [0, 0, 0, 0, 0, 0, 0, 0, 0, 0, 1, 0, 1, 0, 0, ...  \n",
       "4  [9, 4, 14, 3, 4, 9, 1, 1, 8, 2, 17, 10, 4, 5, ...  "
      ]
     },
     "execution_count": 44,
     "metadata": {},
     "output_type": "execute_result"
    }
   ],
   "source": [
    "# Note: Original code describes this method as balancing IA and IP sessions,\n",
    "# but actual implementation seems to be done elsewhere.\n",
    "example_regressors = F.construct_regressors(\n",
    "    neu_data,\n",
    "    sample_thr=15, # aka K\n",
    "    select=[i for i in range(100)]\n",
    ")\n",
    "example_regressors.head()"
   ]
  },
  {
   "cell_type": "markdown",
   "metadata": {},
   "source": [
    "### Inference present vs. absent sessions\n",
    "\n",
    "Inference present vs. absent sessions are computed using statistical significance of session-level inference behavior by the following steps:\n",
    "1. `get_block_num`: Identify \"blocks\" in each session where contexts are switched.\n",
    "2. `get_instance_num`: Within each block, assign instances to each type of stimulus. \n",
    "3. `get_session_accuracy`: Take the first instance of the stimulus in the new trial as an \"inference trial,\" then compute participant accuracy. \n",
    "4. `test_inference_trials`: Classify each of 36 sessions as either inference present or absent, depending on whether accuracy is significnatly above chance (`p > 0.05`)."
   ]
  },
  {
   "cell_type": "code",
   "execution_count": 39,
   "metadata": {},
   "outputs": [
    {
     "name": "stdout",
     "output_type": "stream",
     "text": [
      "Contexts: [2, 2, 2, 2, 2, 2, 2, 2, 2, 2, 2, 2, 2, 2, 2, 2, 2, 2, 2, 2, 2, 2, 2, 2, 2, 2, 2, 2, 1, 1, 1, 1, 1, 1, 1, 1, 1, 1, 1, 1, 1, 1, 1, 1, 1, 1, 1, 1, 1, 1, 1, 1, 1, 2, 2, 2, 2, 2, 2, 2, 2, 2, 2, 2, 2, 2, 2, 2, 2, 2, 2, 2, 2, 2, 2, 2, 2, 2, 2, 2, 2, 2, 2, 2, 2, 2, 2, 2, 2, 2, 2, 2, 2, 2, 2, 2, 2, 2, 2, 1, 1, 1, 1, 1, 1, 1, 1, 1, 1, 1, 1, 1, 1, 1, 1, 1, 1, 1, 1, 1, 1, 1, 1, 1, 1, 2, 2, 2, 2, 2, 2, 2, 2, 2, 2, 2, 2, 2, 2, 2, 2, 2, 2, 2, 2, 2, 2, 2, 2, 2, 2, 2, 2, 2, 2, 1, 1, 1, 1, 1, 1, 1, 1, 1, 1, 1, 1, 1, 1, 1, 1, 1, 1, 1, 1, 1, 1, 1, 1, 1, 1, 1, 1, 1, 1, 1, 1, 1, 1, 1, 1, 1, 1, 1, 1, 1, 1, 1, 1, 1, 1, 1, 1, 2, 2, 2, 2, 2, 2, 2, 2, 2, 2, 2, 2, 2, 2, 2, 2, 2, 2, 2, 2, 2, 2, 2, 2, 2, 2, 2, 2, 2, 2, 2, 2, 2, 2, 2, 2, 2, 2, 1, 1, 1, 1, 1, 1, 1, 1, 1, 1, 1, 1, 1, 1, 1, 1, 1, 1, 1, 1, 1, 1, 1, 1, 1, 1, 1, 1, 1, 1, 1, 2, 2, 2, 2, 2, 2, 2, 2, 2, 2, 2, 2, 2, 2, 2, 2, 2, 2, 2, 2, 2, 2, 2, 2, 2, 1, 1, 1, 1, 1, 1, 1, 1, 1, 1, 1, 1, 1, 1, 1, 1, 1, 1, 1, 1, 1, 1, 1]\n",
      "Block numbers: [0. 0. 0. 0. 0. 0. 0. 0. 0. 0. 0. 0. 0. 0. 0. 0. 0. 0. 0. 0. 0. 0. 0. 0.\n",
      " 0. 0. 0. 0. 1. 1. 1. 1. 1. 1. 1. 1. 1. 1. 1. 1. 1. 1. 1. 1. 1. 1. 1. 1.\n",
      " 1. 1. 1. 1. 1. 2. 2. 2. 2. 2. 2. 2. 2. 2. 2. 2. 2. 2. 2. 2. 2. 2. 2. 2.\n",
      " 2. 2. 2. 2. 2. 2. 2. 2. 2. 2. 2. 2. 2. 2. 2. 2. 2. 2. 2. 2. 2. 2. 2. 2.\n",
      " 2. 2. 2. 3. 3. 3. 3. 3. 3. 3. 3. 3. 3. 3. 3. 3. 3. 3. 3. 3. 3. 3. 3. 3.\n",
      " 3. 3. 3. 3. 3. 4. 4. 4. 4. 4. 4. 4. 4. 4. 4. 4. 4. 4. 4. 4. 4. 4. 4. 4.\n",
      " 4. 4. 4. 4. 4. 4. 4. 4. 4. 4. 4. 5. 5. 5. 5. 5. 5. 5. 5. 5. 5. 5. 5. 5.\n",
      " 5. 5. 5. 5. 5. 5. 5. 5. 5. 5. 5. 5. 5. 5. 5. 5. 5. 5. 5. 5. 5. 5. 5. 5.\n",
      " 5. 5. 5. 5. 5. 5. 5. 5. 5. 5. 5. 6. 6. 6. 6. 6. 6. 6. 6. 6. 6. 6. 6. 6.\n",
      " 6. 6. 6. 6. 6. 6. 6. 6. 6. 6. 6. 6. 6. 6. 6. 6. 6. 6. 6. 6. 6. 6. 6. 6.\n",
      " 6. 7. 7. 7. 7. 7. 7. 7. 7. 7. 7. 7. 7. 7. 7. 7. 7. 7. 7. 7. 7. 7. 7. 7.\n",
      " 7. 7. 7. 7. 7. 7. 7. 7. 8. 8. 8. 8. 8. 8. 8. 8. 8. 8. 8. 8. 8. 8. 8. 8.\n",
      " 8. 8. 8. 8. 8. 8. 8. 8. 8. 9. 9. 9. 9. 9. 9. 9. 9. 9. 9. 9. 9. 9. 9. 9.\n",
      " 9. 9. 9. 9. 9. 9. 9. 9.]\n"
     ]
    }
   ],
   "source": [
    "example_context = task_data[\"context\"].iloc[0]\n",
    "example_block_nums = F.get_block_num(example_context)\n",
    "print(f\"Contexts: {example_context}\")\n",
    "print(f\"Block numbers: {example_block_nums}\")"
   ]
  },
  {
   "cell_type": "code",
   "execution_count": 42,
   "metadata": {},
   "outputs": [
    {
     "name": "stdout",
     "output_type": "stream",
     "text": [
      "Stimulus sequence: [2, 4, 1, 2, 4, 4, 4, 3, 1, 4, 4, 3, 4, 3, 2, 3, 1, 3, 1, 2, 1, 1, 4, 3, 2, 4, 1, 2, 2, 4, 4, 1, 2, 2, 3, 3, 4, 2, 3, 3, 1, 1, 2, 4, 2, 3, 1, 4, 2, 3, 3, 4, 4, 3, 1, 1, 2, 4, 2, 4, 1, 4, 2, 1, 2, 3, 2, 2, 4, 3, 3, 4, 2, 4, 4, 2, 3, 1, 1, 3, 4, 4, 1, 3, 2, 1, 2, 1, 4, 2, 3, 1, 3, 2, 3, 3, 3, 2, 1, 1, 4, 1, 4, 3, 4, 1, 2, 1, 4, 1, 4, 4, 4, 1, 2, 2, 4, 2, 4, 1, 2, 1, 1, 4, 3, 3, 1, 4, 3, 2, 3, 2, 1, 1, 1, 1, 1, 2, 1, 4, 4, 2, 2, 2, 4, 2, 1, 4, 2, 1, 2, 1, 1, 4, 4, 3, 1, 1, 2, 4, 1, 1, 1, 3, 3, 3, 2, 3, 2, 3, 1, 3, 1, 2, 3, 4, 1, 4, 4, 2, 2, 2, 2, 3, 3, 4, 4, 3, 2, 4, 3, 2, 4, 4, 3, 3, 3, 1, 2, 2, 1, 4, 1, 1, 1, 1, 2, 2, 4, 2, 1, 4, 4, 2, 1, 2, 2, 3, 2, 3, 3, 1, 1, 2, 2, 2, 3, 1, 2, 4, 1, 4, 3, 2, 3, 1, 2, 4, 3, 3, 1, 2, 3, 3, 2, 2, 4, 1, 4, 4, 4, 1, 2, 2, 3, 1, 3, 1, 3, 2, 4, 3, 4, 4, 2, 3, 1, 1, 3, 3, 2, 4, 3, 3, 4, 4, 3, 1, 1, 4, 1, 2, 1, 4, 3, 3, 2, 1, 3, 1, 1, 3, 1, 4, 4, 3, 1, 3, 3, 4, 3, 4, 2, 2, 4, 1, 1, 1, 2, 4, 4, 1, 2, 3, 2, 3, 3, 2, 2, 1]\n",
      "Within-block instances: [ 1.  1.  1.  2.  2.  3.  4.  1.  2.  5.  6.  2.  7.  3.  3.  4.  3.  5.\n",
      "  4.  4.  5.  6.  8.  6.  5.  9.  7.  6.  1.  1.  2.  1.  2.  3.  1.  2.\n",
      "  3.  4.  3.  4.  2.  3.  5.  4.  6.  5.  4.  5.  7.  6.  7.  6.  7.  1.\n",
      "  1.  2.  1.  1.  2.  2.  3.  3.  3.  4.  4.  2.  5.  6.  4.  3.  4.  5.\n",
      "  7.  6.  7.  8.  5.  5.  6.  6.  8.  9.  7.  7.  9.  8. 10.  9. 10. 11.\n",
      "  8. 10.  9. 12. 10. 11. 12. 13. 11.  1.  1.  2.  2.  1.  3.  3.  1.  4.\n",
      "  4.  5.  5.  6.  7.  6.  2.  3.  8.  4.  9.  7.  5.  8.  9. 10.  2.  1.\n",
      "  1.  1.  2.  1.  3.  2.  2.  3.  4.  5.  6.  3.  7.  2.  3.  4.  5.  6.\n",
      "  4.  7.  8.  5.  8.  9.  9. 10. 11.  6.  7.  1.  1.  2.  1.  1.  3.  4.\n",
      "  5.  2.  3.  4.  2.  5.  3.  6.  6.  7.  7.  4.  8.  2.  8.  3.  4.  5.\n",
      "  6.  7.  8.  9. 10.  5.  6. 11.  9.  7. 12. 10.  8.  9. 13. 14. 15.  9.\n",
      " 11. 12. 10. 10. 11.  1.  2.  3.  1.  2.  1.  3.  4.  2.  3.  4.  5.  5.\n",
      "  6.  1.  7.  2.  3.  6.  7.  8.  9. 10.  4.  8. 11.  4.  9.  5.  5. 12.\n",
      "  6. 10. 13.  6.  7.  8. 11.  1.  1.  2.  2.  3.  1.  1.  2.  3.  4.  2.\n",
      "  4.  5.  3.  3.  4.  4.  5.  6.  5.  6.  6.  7.  7.  7.  5.  6.  8.  9.\n",
      "  8.  8.  1.  2.  1.  2.  3.  1.  2.  3.  3.  1.  4.  4.  4.  5.  2.  5.\n",
      "  6.  6.  7.  7.  8.  5.  6.  8.  9.  1.  2.  1.  3.  2.  1.  2.  3.  1.\n",
      "  2.  3.  3.  4.  5.  4.  4.  4.  5.  5.  6.  6.  7.  5.]\n"
     ]
    }
   ],
   "source": [
    "example_stim = task_data[\"stim_sequence\"].iloc[0]\n",
    "example_instance_nums = F.get_instance_num(example_stim, example_block_nums)\n",
    "print(f\"Stimulus sequence: {example_stim}\")\n",
    "print(f\"Within-block instances: {example_instance_nums}\")"
   ]
  },
  {
   "cell_type": "code",
   "execution_count": null,
   "metadata": {},
   "outputs": [],
   "source": [
    "F.test_inference_trials()"
   ]
  },
  {
   "cell_type": "markdown",
   "metadata": {},
   "source": [
    "## Geometric analyses"
   ]
  },
  {
   "cell_type": "markdown",
   "metadata": {},
   "source": [
    "### Shattering dimensionality"
   ]
  },
  {
   "cell_type": "code",
   "execution_count": null,
   "metadata": {},
   "outputs": [],
   "source": []
  },
  {
   "cell_type": "markdown",
   "metadata": {},
   "source": [
    "### General pipeline\n",
    "\n",
    "1. Divide neural data into inference present vs. absent groupings.\n",
    "2. For each brain area, find the intersection of indices with each inference type, then compute the geometric analyses separately. "
   ]
  },
  {
   "cell_type": "code",
   "execution_count": null,
   "metadata": {},
   "outputs": [],
   "source": [
    "def sd_task():\n",
    "    return F.run_geometric_analysis(\n",
    "        metric=\"sd\",\n",
    "        neu_data=neu_data,\n",
    "        beh_data=beh_data,\n",
    "        task_data=task_data,\n",
    "        show_progress=True\n",
    "    )\n",
    "\n",
    "def ccgp_task():\n",
    "    return F.run_geometric_analysis(\n",
    "        metric=\"ccgp\",\n",
    "        neu_data=neu_data,\n",
    "        beh_data=beh_data,\n",
    "        task_data=task_data,\n",
    "        n_iter_boot=100,\n",
    "        show_progress=True\n",
    "    )\n",
    "\n",
    "def ps_task():\n",
    "    return F.run_geometric_analysis(\n",
    "        metric=\"ps\",\n",
    "        neu_data=neu_data,\n",
    "        beh_data=beh_data,\n",
    "        task_data=task_data,\n",
    "        n_iter_boot=100,\n",
    "        show_progress=True\n",
    "    )\n",
    "\n",
    "with concurrent.futures.ThreadPoolExecutor() as executor:\n"
   ]
  },
  {
   "cell_type": "code",
   "execution_count": null,
   "metadata": {},
   "outputs": [],
   "source": [
    "# Define two example functions\n",
    "def task1():\n",
    "    time.sleep(2)  # Simulate a task taking time\n",
    "    return \"Task 1 completed\"\n",
    "\n",
    "def task2():\n",
    "    time.sleep(3)  # Simulate a task taking time\n",
    "    return \"Task 2 completed\"\n",
    "\n",
    "# Use ThreadPoolExecutor to run both tasks concurrently\n",
    "with concurrent.futures.ThreadPoolExecutor() as executor:\n",
    "    # Submit both functions to the executor\n",
    "    futures = [executor.submit(task1), executor.submit(task2)]\n",
    "\n",
    "    # Wait for all tasks to complete and collect the results\n",
    "    results = [future.result() for future in concurrent.futures.as_completed(futures)]"
   ]
  },
  {
   "cell_type": "code",
   "execution_count": 16,
   "metadata": {},
   "outputs": [],
   "source": [
    "# TO DO\n",
    "# Check split_sessions method into inference absent vs. inference present sessions\n",
    "# Check that this works\n",
    "# Geometric analyses also splits into inference present and absent trials"
   ]
  }
 ],
 "metadata": {
  "kernelspec": {
   "display_name": "neural-code",
   "language": "python",
   "name": "python3"
  },
  "language_info": {
   "codemirror_mode": {
    "name": "ipython",
    "version": 3
   },
   "file_extension": ".py",
   "mimetype": "text/x-python",
   "name": "python",
   "nbconvert_exporter": "python",
   "pygments_lexer": "ipython3",
   "version": "3.12.7"
  }
 },
 "nbformat": 4,
 "nbformat_minor": 2
}
